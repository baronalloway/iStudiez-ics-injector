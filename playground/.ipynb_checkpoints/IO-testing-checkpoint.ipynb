{
 "cells": [
  {
   "cell_type": "code",
   "execution_count": 33,
   "metadata": {
    "collapsed": false
   },
   "outputs": [],
   "source": [
    "import urllib.request  # the lib that handles the url stuff"
   ]
  },
  {
   "cell_type": "code",
   "execution_count": 34,
   "metadata": {
    "collapsed": true
   },
   "outputs": [],
   "source": [
    "target = open(\"student_schedule.html\", 'wb')"
   ]
  },
  {
   "cell_type": "code",
   "execution_count": 35,
   "metadata": {
    "collapsed": false
   },
   "outputs": [],
   "source": [
    "target_url = \"###\"\n",
    "data = urllib.request.urlopen(target_url) # it's a file like object and works just like a file\n",
    "i = 0\n",
    "string = \"BEGIN:VTIMEZONE\\nTZID:America/Toronto\\nTZURL:http://tzurl.org/zoneinfo-outlook/America/Toronto\\nX-LIC-LOCATION:America/Toronto\\nBEGIN:STANDARD\\nTZOFFSETFROM:-0400\\nTZOFFSETTO:-0400\\nTZNAME:AST\\nDTSTART:19700101T000000\\nEND:STANDARD\\nEND:VTIMEZONE\\n\"\n",
    "byte = str.encode(string)\n",
    "for line in data: # files are iterable\n",
    "    if i == 5:\n",
    "        target.write(byte)\n",
    "    target.write(line)\n",
    "    i+=1"
   ]
  },
  {
   "cell_type": "code",
   "execution_count": 36,
   "metadata": {
    "collapsed": true
   },
   "outputs": [],
   "source": [
    "target.close()"
   ]
  },
  {
   "cell_type": "code",
   "execution_count": null,
   "metadata": {
    "collapsed": true
   },
   "outputs": [],
   "source": []
  }
 ],
 "metadata": {
  "anaconda-cloud": {},
  "kernelspec": {
   "display_name": "Python 2",
   "language": "python",
   "name": "python2"
  },
  "language_info": {
   "codemirror_mode": {
    "name": "ipython",
    "version": 3
   },
   "file_extension": ".py",
   "mimetype": "text/x-python",
   "name": "python",
   "nbconvert_exporter": "python",
   "pygments_lexer": "ipython3",
   "version": "3.5.2"
  }
 },
 "nbformat": 4,
 "nbformat_minor": 0
}
